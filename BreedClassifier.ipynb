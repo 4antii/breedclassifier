{
  "nbformat": 4,
  "nbformat_minor": 0,
  "metadata": {
    "colab": {
      "name": "BreedClassifier.ipynb",
      "provenance": [],
      "private_outputs": true
    },
    "kernelspec": {
      "name": "python3",
      "display_name": "Python 3"
    },
    "language_info": {
      "name": "python"
    },
    "accelerator": "GPU"
  },
  "cells": [
    {
      "cell_type": "code",
      "source": [
        "import torch\n",
        "import numpy as np\n",
        "import torchvision\n",
        "import matplotlib.pyplot as plt\n",
        "import time\n",
        "import copy\n",
        "import shutil\n",
        "import zipfile\n",
        "import numpy as np \n",
        "import pandas as pd \n",
        "import torch.optim as optim\n",
        "import os\n",
        "\n",
        "from PIL import Image\n",
        "from tqdm import tqdm\n",
        "from torch import nn\n",
        "from google.colab import drive\n",
        "from torchvision import transforms, models, datasets\n",
        "from google.colab import drive"
      ],
      "metadata": {
        "id": "PhKZcXrqRobn"
      },
      "execution_count": null,
      "outputs": []
    },
    {
      "cell_type": "code",
      "source": [
        "drive.mount('/content/drive', force_remount=True)"
      ],
      "metadata": {
        "id": "qfEDgbTK90J9"
      },
      "execution_count": null,
      "outputs": []
    },
    {
      "cell_type": "code",
      "source": [
        "device = \"cuda\" if torch.cuda.is_available() else \"cpu\"\n",
        "torch.manual_seed(0)"
      ],
      "metadata": {
        "id": "cpmfO5_LbQ7o"
      },
      "execution_count": null,
      "outputs": []
    },
    {
      "cell_type": "code",
      "source": [
        "path_to_zip = './drive/MyDrive/breeds.zip'"
      ],
      "metadata": {
        "id": "Svsem0hHA1oq"
      },
      "execution_count": null,
      "outputs": []
    },
    {
      "cell_type": "code",
      "source": [
        "!mkdir ./breeds"
      ],
      "metadata": {
        "id": "Cfny7cvMBPAh"
      },
      "execution_count": null,
      "outputs": []
    },
    {
      "cell_type": "code",
      "source": [
        "with zipfile.ZipFile(path_to_zip,\"r\") as zip_ref:\n",
        "    zip_ref.extractall(\"./breeds\")"
      ],
      "metadata": {
        "id": "5gi_MKDpA2Nv"
      },
      "execution_count": null,
      "outputs": []
    },
    {
      "cell_type": "code",
      "source": [
        "mean = [0.4803, 0.4503, 0.3951]\n",
        "std = [0.2627, 0.2583, 0.2669]"
      ],
      "metadata": {
        "id": "cnRSyT_Cz81R"
      },
      "execution_count": null,
      "outputs": []
    },
    {
      "cell_type": "code",
      "source": [
        "train_transforms = transforms.Compose([\n",
        "    transforms.RandomHorizontalFlip(),\n",
        "    transforms.Resize((224, 224)),\n",
        "    transforms.ToTensor(),\n",
        "    transforms.Normalize(mean, std)\n",
        "])"
      ],
      "metadata": {
        "id": "v-m_oJowM3O_"
      },
      "execution_count": null,
      "outputs": []
    },
    {
      "cell_type": "code",
      "source": [
        "cats_dataset=datasets.ImageFolder(root=\"./breeds/images/Cats\",transform=train_transforms)\n",
        "dogs_dataset=datasets.ImageFolder(root=\"./breeds/images/Dogs\",transform=train_transforms, target_transform=lambda y: y + 12)\n",
        "full_dataset = torch.utils.data.ConcatDataset([cats_dataset, dogs_dataset])\n",
        "train_set, test_set = torch.utils.data.random_split(full_dataset, [5000, 1069])"
      ],
      "metadata": {
        "id": "_9W0I7NpCA-n"
      },
      "execution_count": null,
      "outputs": []
    },
    {
      "cell_type": "code",
      "source": [
        "train_dataloader = torch.utils.data.DataLoader(train_set, batch_size=64, shuffle=True, num_workers=8)\n",
        "test_dataloader = torch.utils.data.DataLoader(test_set, batch_size=64, shuffle=True, num_workers=8)"
      ],
      "metadata": {
        "id": "Cci1RFguObf4"
      },
      "execution_count": null,
      "outputs": []
    },
    {
      "cell_type": "code",
      "source": [
        "model = torch.hub.load('pytorch/vision:v0.10.0', 'resnet18', pretrained=True)\n",
        "model.fc = nn.Sequential(torch.nn.Linear(512, 37), nn.Softmax())"
      ],
      "metadata": {
        "id": "Uch5sW0Qa3s5"
      },
      "execution_count": null,
      "outputs": []
    },
    {
      "cell_type": "code",
      "source": [
        "model.load_state_dict(torch.load('./drive/MyDrive/breed_resnet/resnet18_s2_700.pt'))\n",
        "model = model.to(device)"
      ],
      "metadata": {
        "id": "dyg8f4gDrscm"
      },
      "execution_count": null,
      "outputs": []
    },
    {
      "cell_type": "code",
      "source": [
        "#FOR CPU \n",
        "model.load_state_dict(torch.load('./drive/MyDrive/breed_resnet/resnet18_s2_700.pt', map_location=torch.device('cpu')))\n",
        "model = model.to(device)"
      ],
      "metadata": {
        "id": "4_fgpPiCkgoA"
      },
      "execution_count": null,
      "outputs": []
    },
    {
      "cell_type": "code",
      "source": [
        "criterion = nn.CrossEntropyLoss()\n",
        "optimizer = optim.SGD(model.parameters(), lr=0.001, momentum=0.9)"
      ],
      "metadata": {
        "id": "JuEUfWaAfHLj"
      },
      "execution_count": null,
      "outputs": []
    },
    {
      "cell_type": "code",
      "source": [
        "epochs = 1000"
      ],
      "metadata": {
        "id": "2V4-_CdyePZC"
      },
      "execution_count": null,
      "outputs": []
    },
    {
      "cell_type": "code",
      "source": [
        "model.train()\n",
        "for epoch in range(epochs):  # loop over the dataset multiple times\n",
        "\n",
        "    running_loss = 0.0\n",
        "    for i, data in enumerate(train_dataloader, 0):\n",
        "        # get the inputs; data is a list of [inputs, labels]\n",
        "        inputs, labels = data\n",
        "        inputs = inputs.to(device);\n",
        "        labels = labels.to(device);\n",
        "\n",
        "        # zero the parameter gradients\n",
        "        optimizer.zero_grad()\n",
        "\n",
        "        # forward + backward + optimize\n",
        "        outputs = model(inputs)\n",
        "        loss = criterion(outputs, labels)\n",
        "        loss.backward()\n",
        "        optimizer.step()\n",
        "\n",
        "        # print statistics\n",
        "        running_loss += loss.item()\n",
        "        if i % 10 == 0:    # print every 2000 mini-batches\n",
        "            print(f'[{epoch + 1}, {i + 1:5d}] loss: {running_loss:.8f}')\n",
        "            running_loss = 0.0\n",
        "    if epoch % 100 == 0: torch.save(model.state_dict(), './drive/MyDrive/breed_resnet/resnet18_s2_' + str(epoch) + '.pt')\n",
        "\n",
        "print('Finished Training')"
      ],
      "metadata": {
        "id": "lnlbCiyDejpf"
      },
      "execution_count": null,
      "outputs": []
    },
    {
      "cell_type": "code",
      "source": [
        "labels_map = {\n",
        "    0: \"Animal: Cat / Breed: Abyssinian\",\n",
        "    1: \"Animal: Cat / Breed: Bengal\",\n",
        "    2: \"Animal: Cat / Breed: Birman\",\n",
        "    3: \"Animal: Cat / Breed: Bombay\",\n",
        "    4: \"Animal: Cat / Breed: British Shorthair\",\n",
        "    5: \"Animal: Cat / Breed: Egyptian Mau\",\n",
        "    6: \"Animal: Cat / Breed: Maine Coon\",\n",
        "    7: \"Animal: Cat / Breed: Persian\",\n",
        "    8: \"Animal: Cat / Breed: Ragdoll\",\n",
        "    9: \"Animal: Cat / Breed: Russian Blue\",\n",
        "    10: \"Animal: Cat / Breed: Siamese\",\n",
        "    11: \"Animal: Cat / Breed: Sphynx\",\n",
        "    12: \"Animal: Dog / Breed: American Bulldog\",\n",
        "    13: \"Animal: Dog / Breed: American Pit Bull Terrier\",\n",
        "    14: \"Animal: Dog / Breed: Basset Hound\",\n",
        "    15: \"Animal: Dog / Breed: Beagle\",\n",
        "    16: \"Animal: Dog / Breed: Boxer\",\n",
        "    17: \"Animal: Dog / Breed: Chihuahua\",\n",
        "    18: \"Animal: Dog / Breed: English Cocker Spaniel\",\n",
        "    19: \"Animal: Dog / Breed: English Setter\",\n",
        "    20: \"Animal: Dog / Breed: German Shorthaired\",\n",
        "    21: \"Animal: Dog / Breed: Great Pyrenees\",\n",
        "    22: \"Animal: Dog / Breed: Havanese\",\n",
        "    23: \"Animal: Dog / Breed: Japanese Chin\",\n",
        "    24: \"Animal: Dog / Breed: Keeshond\",\n",
        "    25: \"Animal: Dog / Breed: Leonberger\",\n",
        "    26: \"Animal: Dog / Breed: Miniature Pinscher\",\n",
        "    27: \"Animal: Dog / Breed: Newfoundland\",\n",
        "    28: \"Animal: Dog / Breed: Pomeranian\",\n",
        "    29: \"Animal: Dog / Breed: Pug\",\n",
        "    30: \"Animal: Dog / Breed: Saint Bernard\",\n",
        "    31: \"Animal: Dog / Breed: Samoyed\",\n",
        "    32: \"Animal: Dog / Breed: Scottish Terrier\",\n",
        "    33: \"Animal: Dog / Breed: Shiba Inu\",\n",
        "    34: \"Animal: Dog / Breed: Staffordshire Bull Terrier\",\n",
        "    35: \"Animal: Dog / Breed: Wheaten Terrier\",\n",
        "    36: \"Animal: Dog / Breed: Yorkshire Terrier\"\n",
        "}\n"
      ],
      "metadata": {
        "id": "F7YFXGRtzZ0O"
      },
      "execution_count": null,
      "outputs": []
    },
    {
      "cell_type": "code",
      "source": [
        "inv_mean = [-0.4803/0.2627, -0.4503/0.2583, -0.3951/0.2669]\n",
        "inv_std = [1/0.2627, 1/0.2583, 1/0.2669]\n",
        "inv_normalize = transforms.Normalize(\n",
        "    mean=inv_mean,\n",
        "    std=inv_std\n",
        ")"
      ],
      "metadata": {
        "id": "zzY0--PK3RVu"
      },
      "execution_count": null,
      "outputs": []
    },
    {
      "cell_type": "code",
      "source": [
        "model.eval()\n",
        "model = model.to(device)\n",
        "correct = 0\n",
        "total = 0\n",
        "# since we're not training, we don't need to calculate the gradients for our outputs\n",
        "with torch.no_grad():\n",
        "    for data in test_dataloader:\n",
        "        images, labels = data\n",
        "        fig, ax = plt.subplots()\n",
        "        images = images.to(device);\n",
        "        labels = labels.to(device);\n",
        "        # calculate outputs by running images through the network\n",
        "        outputs = model(images)\n",
        "        # the class with the highest energy is what we choose as prediction\n",
        "        _, predicted = torch.max(outputs.data, 1)\n",
        "        true_breed = labels_map[labels[0].cpu().detach().numpy().item()]\n",
        "        predicted_breed = labels_map[predicted[0].cpu().detach().numpy().item()]\n",
        "        ax.set_title('True: ' + true_breed + ' | Predicted: ' + predicted_breed)\n",
        "        ax.imshow(inv_normalize(images[0]).permute(1, 2, 0).cpu().detach().numpy())\n",
        "\n",
        "        total += labels.size(0)\n",
        "        correct += (predicted == labels).sum().item()\n",
        "\n",
        "print(f'Accuracy: {100 * correct / total} %')"
      ],
      "metadata": {
        "id": "q21Gnu4IsLYD"
      },
      "execution_count": null,
      "outputs": []
    },
    {
      "cell_type": "code",
      "source": [
        "model.eval()\n",
        "#image = Image.open('./basset_hound_108.jpg')\n",
        "#image = Image.open('./beagle1.jpeg')\n",
        "image = Image.open('./img.jpg')\n",
        "\n",
        "\n",
        "transform = transforms.Compose([\n",
        "    transforms.ToTensor(),\n",
        "    #transforms.PILToTensor(),\n",
        "    transforms.Resize((224, 224)),\n",
        "    #transforms.Normalize(mean, std),\n",
        "    #transforms.ToTensor(),\n",
        "])\n",
        "\n",
        "print(transform(image).shape)\n",
        "img_tensor = transform(image).float().to(device)\n",
        "img_tensor = torch.unsqueeze(img_tensor, dim=0)\n",
        "output = model(img_tensor)\n",
        "print(output)\n",
        "_, pred = torch.max(output, 1)\n",
        "predicted_breed = labels_map[pred[0].cpu().detach().numpy().item()]\n",
        "predicted_breed"
      ],
      "metadata": {
        "id": "ydIb0FRVyaSd"
      },
      "execution_count": null,
      "outputs": []
    },
    {
      "cell_type": "code",
      "source": [
        ""
      ],
      "metadata": {
        "id": "xLSvO_FC8fHu"
      },
      "execution_count": null,
      "outputs": []
    }
  ]
}